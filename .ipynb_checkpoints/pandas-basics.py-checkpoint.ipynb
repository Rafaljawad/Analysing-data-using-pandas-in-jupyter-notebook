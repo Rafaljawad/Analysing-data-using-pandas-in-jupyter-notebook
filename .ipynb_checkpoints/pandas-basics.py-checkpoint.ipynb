{
 "cells": [
  {
   "cell_type": "code",
   "execution_count": null,
   "id": "6fd18844",
   "metadata": {},
   "outputs": [],
   "source": [
    "#first import\n",
    "import pandas as pd"
   ]
  },
  {
   "cell_type": "code",
   "execution_count": null,
   "id": "e025e4f1",
   "metadata": {},
   "outputs": [],
   "source": [
    "# second read data set.# i got from kaggle website nike data set in a format of csv so in this case I have to read_csv to get that data\n",
    "test_data=pd.read_csv(r\"C:\\Users\\rafal\\Videos\\python-training-with-kumar-lecturs\\practice and notes\\pandas-practice\\data-sets\\nike_data_2022_09.csv\")"
   ]
  },
  {
   "cell_type": "code",
   "execution_count": null,
   "id": "d5512d90",
   "metadata": {},
   "outputs": [],
   "source": [
    "#print the whole data\n",
    "test_data"
   ]
  },
  {
   "cell_type": "code",
   "execution_count": null,
   "id": "ef9118cc",
   "metadata": {},
   "outputs": [],
   "source": [
    "print(\"type of test_data is: \",type(test_data))#o/p type of test is:  <class 'pandas.core.frame.DataFrame'>\n",
    "# print(test)\n",
    "print(dir(test_data))# dir to get all methods of pandas file "
   ]
  },
  {
   "cell_type": "code",
   "execution_count": null,
   "id": "151fab78",
   "metadata": {},
   "outputs": [],
   "source": [
    "#***********applying head method on data set***************\n",
    "#HEAD(n) METHOD RETURNS FIRST N RECORDS\n",
    "print(\"first 4 records are : \\n\",test_data.head(4))# HEAD RETURNS N ROWS,HEAD GIVES ME 4 RECORDS WITH ALL COLUMNS IN THE DATA SET HERE I GOT FROM 0-3\n",
    "# print(test_data.head())# IF I DONT SPESFIY NUMBER BY DEFULT IT RETURNS 5 RECORDS(ROWS) ONLY\n"
   ]
  },
  {
   "cell_type": "code",
   "execution_count": null,
   "id": "8fe2c02b",
   "metadata": {},
   "outputs": [],
   "source": [
    "#*****************applying tail method on data set*******\n",
    "#TAIL(n) METHODE RETURNS LAST N RECORDS\n",
    "print(\"last 4 records are : \\n\",test_data.tail(4))\n",
    "# print(\"last records without n  are : \",test_data.tail())# by defualt , it returns five last records"
   ]
  },
  {
   "cell_type": "code",
   "execution_count": null,
   "id": "5f2c4f43",
   "metadata": {},
   "outputs": [],
   "source": [
    "#*******filtering dtypes*********\n",
    "#FILTER \n",
    "#to know the data type for each col by using dtypes. for every string data type , it returns it as an object data type like name,gender,...etc\n",
    "print(\"data types for each col are   : \\n\",test_data.dtypes)\n",
    "\n",
    "#filter data that is object for example\n",
    "print(\"filter data that is object are   : \\n\",test_data.dtypes==\"object\")# will get all data type for each col true except for cols that has int \n"
   ]
  },
  {
   "cell_type": "code",
   "execution_count": 16,
   "id": "4d4b82a2",
   "metadata": {},
   "outputs": [
    {
     "name": "stdout",
     "output_type": "stream",
     "text": [
      "only true cols : \n",
      " url                object\n",
      "name               object\n",
      "sub_title          object\n",
      "brand              object\n",
      "color              object\n",
      "currency           object\n",
      "availability       object\n",
      "description        object\n",
      "raw_description    object\n",
      "images             object\n",
      "available_sizes    object\n",
      "uniq_id            object\n",
      "scraped_at         object\n",
      "dtype: object\n"
     ]
    }
   ],
   "source": [
    "# if we want to get only true values here will write the condition in a separate var\n",
    "true_condition=test_data.dtypes==\"object\"# this condition \n",
    "print(\"only true cols : \\n\",test_data.dtypes[true_condition])# here will gives just the true condition depends on the variable that I set(true_condition var)\n",
    "#o/p we got all cols except the int cols"
   ]
  },
  {
   "cell_type": "code",
   "execution_count": 19,
   "id": "a1670a2a",
   "metadata": {},
   "outputs": [
    {
     "name": "stdout",
     "output_type": "stream",
     "text": [
      "only false cols : \n",
      " index             int64\n",
      "model             int64\n",
      "price           float64\n",
      "avg_rating      float64\n",
      "review_count    float64\n",
      "dtype: object\n"
     ]
    }
   ],
   "source": [
    "false_condition=test_data.dtypes!=\"object\"# this condition not equal\n",
    "print(\"only false cols : \\n\",test_data.dtypes[false_condition])#o/p is everything not string(object) "
   ]
  },
  {
   "cell_type": "code",
   "execution_count": 20,
   "id": "15776006",
   "metadata": {},
   "outputs": [
    {
     "name": "stdout",
     "output_type": "stream",
     "text": [
      "object is availabl at  : \n",
      " Index(['url', 'name', 'sub_title', 'brand', 'color', 'currency',\n",
      "       'availability', 'description', 'raw_description', 'images',\n",
      "       'available_sizes', 'uniq_id', 'scraped_at'],\n",
      "      dtype='object')\n"
     ]
    }
   ],
   "source": [
    "#**************index for spesfic condition******************\n",
    "#WE CAN KNOW ALSO IN WHICH INDEX THE COLS HAS DT=OBJECT\n",
    "true_condition=test_data.dtypes==\"object\"# this condition \n",
    "print(\"object is availabl at  : \\n\",test_data.dtypes[true_condition].index)\n",
    "# o/p object is availabl at  : \n",
    "#  Index(['url', 'name', 'sub_title', 'brand', 'color', 'currency',\n",
    "#        'availability', 'description', 'raw_description', 'images',\n",
    "#        'available_sizes', 'uniq_id', 'scraped_at'],\n",
    "#       dtype='object')"
   ]
  },
  {
   "cell_type": "code",
   "execution_count": 23,
   "id": "b489f0e7",
   "metadata": {},
   "outputs": [
    {
     "name": "stdout",
     "output_type": "stream",
     "text": [
      "&&&&&& descripe method data \n",
      "             index         model       price  avg_rating  review_count\n",
      "count  112.000000  1.120000e+02  112.000000   23.000000     23.000000\n",
      "mean    55.500000  9.298439e+07   61.506250    4.773913     31.391304\n",
      "std     32.475632  2.698557e+08   39.887738    0.336043     72.942530\n",
      "min      0.000000  1.013351e+07    9.970000    3.800000      1.000000\n",
      "25%     27.750000  1.329489e+07   31.720000    4.750000      1.000000\n",
      "50%     55.500000  1.389103e+07   45.000000    4.800000      5.000000\n",
      "75%     83.250000  1.406539e+07   85.242500    5.000000     13.000000\n",
      "max    111.000000  1.007648e+09  175.000000    5.000000    316.000000\n"
     ]
    }
   ],
   "source": [
    "#***********descripe method on float and int ***************\n",
    "# descripe method works only on int and float it displays the statistics(here will work on cols which is int or float only)\n",
    "print(\"&&&&&& descripe method data \\n\",test_data.describe())#o/p will give the max price,review ...etc and min also   and so on"
   ]
  },
  {
   "cell_type": "code",
   "execution_count": 26,
   "id": "9f6911d6",
   "metadata": {},
   "outputs": [
    {
     "name": "stdout",
     "output_type": "stream",
     "text": [
      "cols are : \n",
      " Index(['index', 'url', 'name', 'sub_title', 'brand', 'model', 'color', 'price',\n",
      "       'currency', 'availability', 'description', 'raw_description',\n",
      "       'avg_rating', 'review_count', 'images', 'available_sizes', 'uniq_id',\n",
      "       'scraped_at'],\n",
      "      dtype='object')\n",
      "start and stop AND step \n",
      " RangeIndex(start=0, stop=112, step=1)\n",
      "NAMES IN ROW  are : \n",
      " 0                Nike Dri-FIT Team (MLB Minnesota Twins)\n",
      "1                                           Club América\n",
      "2                                 Nike Sportswear Swoosh\n",
      "3                                  Nike Dri-FIT One Luxe\n",
      "4                  Paris Saint-Germain Repel Academy AWF\n",
      "                             ...                        \n",
      "107                            Air Jordan XXXV Low DS PF\n",
      "108                          Nike College Dri-FIT (UCLA)\n",
      "109                                               Jordan\n",
      "110    NFL Los Angeles Rams Nike Vapor Untouchable (M...\n",
      "111                 Nike Team First (MLB Houston Astros)\n",
      "Name: name, Length: 112, dtype: object\n"
     ]
    }
   ],
   "source": [
    "#*****************columnss method describes all cols ***************\n",
    "print(\"cols are : \\n\",test_data.columns)\n",
    "# O/P cols are :\n",
    "#  Index(['index', 'url', 'name', 'sub_title', 'brand', 'model', 'color', 'price',\n",
    "#        'currency', 'availability', 'description', 'raw_description',\n",
    "#        'avg_rating', 'review_count', 'images', 'available_sizes', 'uniq_id',\n",
    "#        'scraped_at'],\n",
    "#       dtype='object')\n",
    "\n",
    "print(\"start and stop AND step \\n\" ,test_data.index)#o/p start and stop AND step  RangeIndex(start=0, stop=112, step=1)\n",
    "\n",
    "#IF WE WANT TO ACCESS JUST NAME COLS FROM THE ROW\n",
    "print(\"NAMES IN ROW  are : \\n\",test_data['name'])"
   ]
  },
  {
   "cell_type": "code",
   "execution_count": 28,
   "id": "eb943b65",
   "metadata": {},
   "outputs": [
    {
     "name": "stdout",
     "output_type": "stream",
     "text": [
      "sliceing names : \n",
      " 0    Nike Dri-FIT Team (MLB Minnesota Twins)\n",
      "1                               Club América\n",
      "2                     Nike Sportswear Swoosh\n",
      "Name: name, dtype: object \n",
      " 0     40.0\n",
      "1     90.0\n",
      "2    140.0\n",
      "Name: price, dtype: float64\n"
     ]
    }
   ],
   "source": [
    "#we can do slice on spesfic cols\n",
    "print(\"sliceing names : \\n\",test_data['name'][0:3:1],\"\\n\",test_data['price'][0:3:1])#start:stop:step get all records from 0 until 3"
   ]
  },
  {
   "cell_type": "code",
   "execution_count": 29,
   "id": "05485714",
   "metadata": {},
   "outputs": [
    {
     "ename": "NameError",
     "evalue": "name 'employe_data' is not defined",
     "output_type": "error",
     "traceback": [
      "\u001b[1;31m---------------------------------------------------------------------------\u001b[0m",
      "\u001b[1;31mNameError\u001b[0m                                 Traceback (most recent call last)",
      "Cell \u001b[1;32mIn [29], line 2\u001b[0m\n\u001b[0;32m      1\u001b[0m \u001b[38;5;66;03m#to get more cols\u001b[39;00m\n\u001b[1;32m----> 2\u001b[0m \u001b[38;5;28mprint\u001b[39m(\u001b[38;5;124m\"\u001b[39m\u001b[38;5;124mmore cols : \u001b[39m\u001b[38;5;130;01m\\n\u001b[39;00m\u001b[38;5;124m\"\u001b[39m,\u001b[43memploye_data\u001b[49m[[\u001b[38;5;124m'\u001b[39m\u001b[38;5;124mname\u001b[39m\u001b[38;5;124m'\u001b[39m,\u001b[38;5;124m'\u001b[39m\u001b[38;5;124mmodel\u001b[39m\u001b[38;5;124m'\u001b[39m,\u001b[38;5;124m'\u001b[39m\u001b[38;5;124mprice\u001b[39m\u001b[38;5;124m'\u001b[39m,\u001b[38;5;124m'\u001b[39m\u001b[38;5;124murl\u001b[39m\u001b[38;5;124m'\u001b[39m]])\n",
      "\u001b[1;31mNameError\u001b[0m: name 'employe_data' is not defined"
     ]
    }
   ],
   "source": [
    "#to get more cols\n",
    "print(\"more cols : \\n\",test_data[['name','model','price','url']])"
   ]
  },
  {
   "cell_type": "code",
   "execution_count": null,
   "id": "10ba89e7",
   "metadata": {},
   "outputs": [],
   "source": []
  }
 ],
 "metadata": {
  "kernelspec": {
   "display_name": "Python 3 (ipykernel)",
   "language": "python",
   "name": "python3"
  },
  "language_info": {
   "codemirror_mode": {
    "name": "ipython",
    "version": 3
   },
   "file_extension": ".py",
   "mimetype": "text/x-python",
   "name": "python",
   "nbconvert_exporter": "python",
   "pygments_lexer": "ipython3",
   "version": "3.9.12"
  }
 },
 "nbformat": 4,
 "nbformat_minor": 5
}
