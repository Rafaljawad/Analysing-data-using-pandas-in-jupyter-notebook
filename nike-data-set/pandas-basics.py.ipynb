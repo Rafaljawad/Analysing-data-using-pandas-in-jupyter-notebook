{
 "cells": [
  {
   "cell_type": "code",
   "execution_count": null,
   "id": "365eb676",
   "metadata": {},
   "outputs": [],
   "source": [
    "#first import\n",
    "import pandas as pd"
   ]
  },
  {
   "cell_type": "code",
   "execution_count": null,
   "id": "da91a1c9",
   "metadata": {},
   "outputs": [],
   "source": [
    "# second read data set.# i got from kaggle website nike data set in a format of csv so in this case I have to read_csv to get that data\n",
    "test_data=pd.read_csv(r\"C:\\Users\\rafal\\Videos\\python-training-with-kumar-lecturs\\practice and notes\\pandas-practice\\data-sets\\nike_data_2022_09.csv\")"
   ]
  },
  {
   "cell_type": "code",
   "execution_count": null,
   "id": "0080200a",
   "metadata": {},
   "outputs": [],
   "source": [
    "#print the whole data\n",
    "test_data"
   ]
  },
  {
   "cell_type": "code",
   "execution_count": null,
   "id": "7c75e6b2",
   "metadata": {},
   "outputs": [],
   "source": [
    "print(\"type of test_data is: \",type(test_data))#o/p type of test is:  <class 'pandas.core.frame.DataFrame'>\n",
    "# print(test)\n",
    "print(dir(test_data))# dir to get all methods of pandas file "
   ]
  },
  {
   "cell_type": "code",
   "execution_count": null,
   "id": "fa66690f",
   "metadata": {},
   "outputs": [],
   "source": [
    "#***********applying head method on data set***************\n",
    "#HEAD(n) METHOD RETURNS FIRST N RECORDS\n",
    "print(\"first 4 records are : \\n\",test_data.head(4))# HEAD RETURNS N ROWS,HEAD GIVES ME 4 RECORDS WITH ALL COLUMNS IN THE DATA SET HERE I GOT FROM 0-3\n",
    "# print(test_data.head())# IF I DONT SPESFIY NUMBER BY DEFULT IT RETURNS 5 RECORDS(ROWS) ONLY\n"
   ]
  },
  {
   "cell_type": "code",
   "execution_count": null,
   "id": "d36961a5",
   "metadata": {},
   "outputs": [],
   "source": [
    "#*****************applying tail method on data set*******\n",
    "#TAIL(n) METHODE RETURNS LAST N RECORDS\n",
    "print(\"last 4 records are : \\n\",test_data.tail(4))\n",
    "# print(\"last records without n  are : \",test_data.tail())# by defualt , it returns five last records"
   ]
  },
  {
   "cell_type": "code",
   "execution_count": null,
   "id": "d27c1486",
   "metadata": {},
   "outputs": [],
   "source": [
    "#*******filtering dtypes*********\n",
    "#FILTER \n",
    "#to know the data type for each col by using dtypes. for every string data type , it returns it as an object data type like name,gender,...etc\n",
    "print(\"data types for each col are   : \\n\",test_data.dtypes)\n",
    "\n",
    "#filter data that is object for example\n",
    "print(\"filter data that is object are   : \\n\",test_data.dtypes==\"object\")# will get all data type for each col true except for cols that has int \n"
   ]
  },
  {
   "cell_type": "code",
   "execution_count": null,
   "id": "26270fa4",
   "metadata": {},
   "outputs": [],
   "source": [
    "# if we want to get only true values here will write the condition in a separate var\n",
    "true_condition=test_data.dtypes==\"object\"# this condition \n",
    "print(\"only true cols : \\n\",test_data.dtypes[true_condition])# here will gives just the true condition depends on the variable that I set(true_condition var)\n",
    "#o/p we got all cols except the age because it is int"
   ]
  },
  {
   "cell_type": "code",
   "execution_count": null,
   "id": "524687fc",
   "metadata": {},
   "outputs": [],
   "source": []
  }
 ],
 "metadata": {
  "kernelspec": {
   "display_name": "Python 3 (ipykernel)",
   "language": "python",
   "name": "python3"
  },
  "language_info": {
   "codemirror_mode": {
    "name": "ipython",
    "version": 3
   },
   "file_extension": ".py",
   "mimetype": "text/x-python",
   "name": "python",
   "nbconvert_exporter": "python",
   "pygments_lexer": "ipython3",
   "version": "3.9.12"
  }
 },
 "nbformat": 4,
 "nbformat_minor": 5
}
