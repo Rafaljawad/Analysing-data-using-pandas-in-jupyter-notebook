{
 "cells": [
  {
   "cell_type": "code",
   "execution_count": null,
   "id": "9606b7c8",
   "metadata": {},
   "outputs": [],
   "source": [
    "#first import\n",
    "import pandas as pd"
   ]
  },
  {
   "cell_type": "code",
   "execution_count": null,
   "id": "ae1ffab8",
   "metadata": {},
   "outputs": [],
   "source": [
    "# second read data set.# i got from kaggle website nike data set in a format of csv so in this case I have to read_csv to get that data\n",
    "test_data=pd.read_csv(r\"C:\\Users\\rafal\\Videos\\python-training-with-kumar-lecturs\\practice and notes\\pandas-practice\\data-sets\\nike_data_2022_09.csv\")"
   ]
  },
  {
   "cell_type": "code",
   "execution_count": null,
   "id": "9ec2d72d",
   "metadata": {},
   "outputs": [],
   "source": [
    "#print the whole data\n",
    "test_data\n",
    "#to display fancy data frame this code below\n",
    "df = pd.DataFrame(test_data)"
   ]
  },
  {
   "cell_type": "code",
   "execution_count": null,
   "id": "66c0005e",
   "metadata": {},
   "outputs": [],
   "source": [
    "df"
   ]
  },
  {
   "cell_type": "code",
   "execution_count": null,
   "id": "08509b7f",
   "metadata": {},
   "outputs": [],
   "source": [
    "print(\"type of test_data is: \",type(test_data))#o/p type of test is:  <class 'pandas.core.frame.DataFrame'>\n",
    "# print(test)\n",
    "print(dir(test_data))# dir to get all methods of pandas file "
   ]
  },
  {
   "cell_type": "code",
   "execution_count": null,
   "id": "b6d4d4c4",
   "metadata": {},
   "outputs": [],
   "source": [
    "#***********applying head method on data set***************\n",
    "#HEAD(n) METHOD RETURNS FIRST N RECORDS\n",
    "print(\"first 4 records are : \\n\",test_data.head(4))# HEAD RETURNS N ROWS,HEAD GIVES ME 4 RECORDS WITH ALL COLUMNS IN THE DATA SET HERE I GOT FROM 0-3\n",
    "# print(test_data.head())# IF I DONT SPESFIY NUMBER BY DEFULT IT RETURNS 5 RECORDS(ROWS) ONLY\n"
   ]
  },
  {
   "cell_type": "code",
   "execution_count": null,
   "id": "eabc597e",
   "metadata": {},
   "outputs": [],
   "source": [
    "#*****************applying tail method on data set*******\n",
    "#TAIL(n) METHODE RETURNS LAST N RECORDS\n",
    "print(\"last 4 records are : \\n\",test_data.tail(4))\n",
    "# print(\"last records without n  are : \",test_data.tail())# by defualt , it returns five last records"
   ]
  },
  {
   "cell_type": "code",
   "execution_count": null,
   "id": "44de2639",
   "metadata": {},
   "outputs": [],
   "source": [
    "#*******filtering dtypes*********\n",
    "#FILTER \n",
    "#to know the data type for each col by using dtypes. for every string data type , it returns it as an object data type like name,gender,...etc\n",
    "print(\"data types for each col are   : \\n\",test_data.dtypes)\n",
    "\n",
    "#filter data that is object for example\n",
    "print(\"filter data that is object are   : \\n\",test_data.dtypes==\"object\")# will get all data type for each col true except for cols that has int \n"
   ]
  },
  {
   "cell_type": "code",
   "execution_count": null,
   "id": "6da7e8c6",
   "metadata": {},
   "outputs": [],
   "source": [
    "# if we want to get only true values here will write the condition in a separate var\n",
    "true_condition=test_data.dtypes==\"object\"# this condition \n",
    "print(\"only true cols : \\n\",test_data.dtypes[true_condition])# here will gives just the true condition depends on the variable that I set(true_condition var)\n",
    "#o/p we got all cols except the int cols"
   ]
  },
  {
   "cell_type": "code",
   "execution_count": null,
   "id": "66ea79b4",
   "metadata": {},
   "outputs": [],
   "source": [
    "false_condition=test_data.dtypes!=\"object\"# this condition not equal\n",
    "print(\"only false cols : \\n\",test_data.dtypes[false_condition])#o/p is everything not string(object) "
   ]
  },
  {
   "cell_type": "code",
   "execution_count": null,
   "id": "98e95416",
   "metadata": {},
   "outputs": [],
   "source": [
    "#**************index for spesfic condition******************\n",
    "#WE CAN KNOW ALSO IN WHICH INDEX THE COLS HAS DT=OBJECT\n",
    "true_condition=test_data.dtypes==\"object\"# this condition \n",
    "print(\"object is availabl at  : \\n\",test_data.dtypes[true_condition].index)\n",
    "# o/p object is availabl at  : \n",
    "#  Index(['url', 'name', 'sub_title', 'brand', 'color', 'currency',\n",
    "#        'availability', 'description', 'raw_description', 'images',\n",
    "#        'available_sizes', 'uniq_id', 'scraped_at'],\n",
    "#       dtype='object')"
   ]
  },
  {
   "cell_type": "code",
   "execution_count": null,
   "id": "a0395f82",
   "metadata": {},
   "outputs": [],
   "source": [
    "#***********descripe method on float and int ***************\n",
    "# descripe method works only on int and float it displays the statistics(here will work on cols which is int or float only)\n",
    "print(\"&&&&&& descripe method data \\n\",test_data.describe())#o/p will give the max price,review ...etc and min also   and so on"
   ]
  },
  {
   "cell_type": "code",
   "execution_count": null,
   "id": "8165c054",
   "metadata": {},
   "outputs": [],
   "source": [
    "#*****************columnss method describes all cols ***************\n",
    "print(\"cols are : \\n\",test_data.columns)\n",
    "# O/P cols are :\n",
    "#  Index(['index', 'url', 'name', 'sub_title', 'brand', 'model', 'color', 'price',\n",
    "#        'currency', 'availability', 'description', 'raw_description',\n",
    "#        'avg_rating', 'review_count', 'images', 'available_sizes', 'uniq_id',\n",
    "#        'scraped_at'],\n",
    "#       dtype='object')\n",
    "\n",
    "print(\"start and stop AND step \\n\" ,test_data.index)#o/p start and stop AND step  RangeIndex(start=0, stop=112, step=1)\n",
    "\n",
    "#IF WE WANT TO ACCESS JUST NAME COLS FROM THE ROW\n",
    "print(\"NAMES IN ROW  are : \\n\",test_data['name'])"
   ]
  },
  {
   "cell_type": "code",
   "execution_count": null,
   "id": "d861fa22",
   "metadata": {},
   "outputs": [],
   "source": [
    "#we can do slice on spesfic cols\n",
    "print(\"sliceing names : \\n\",test_data['name'][0:3:1],\"\\n\",test_data['price'][0:3:1])#start:stop:step get all records from 0 until 3"
   ]
  },
  {
   "cell_type": "code",
   "execution_count": null,
   "id": "9216fcde",
   "metadata": {},
   "outputs": [],
   "source": [
    "#to get more cols\n",
    "print(\"more cols : \\n\",test_data[['name','model','price','url']])"
   ]
  },
  {
   "cell_type": "code",
   "execution_count": null,
   "id": "aee24796",
   "metadata": {},
   "outputs": [],
   "source": [
    "dt=test_data[['name','price']]# will get all records with name and price\n",
    "print(\"name and price : \\n\",dt[1:11:1])# slicing only 10 records "
   ]
  },
  {
   "cell_type": "code",
   "execution_count": null,
   "id": "00c5f462",
   "metadata": {},
   "outputs": [],
   "source": [
    "#OR \n",
    "print(\"more cols sliceing: \\n\",test_data[['name','price']][1:11:1])"
   ]
  },
  {
   "cell_type": "code",
   "execution_count": null,
   "id": "98f123c0",
   "metadata": {},
   "outputs": [],
   "source": [
    "#to display fancy data frame this code below\n",
    "df = pd.DataFrame(test_data)"
   ]
  },
  {
   "cell_type": "code",
   "execution_count": null,
   "id": "e6d4cf3b",
   "metadata": {},
   "outputs": [],
   "source": [
    "df"
   ]
  },
  {
   "cell_type": "code",
   "execution_count": null,
   "id": "a6c15cc3",
   "metadata": {},
   "outputs": [],
   "source": []
  }
 ],
 "metadata": {
  "kernelspec": {
   "display_name": "Python 3 (ipykernel)",
   "language": "python",
   "name": "python3"
  },
  "language_info": {
   "codemirror_mode": {
    "name": "ipython",
    "version": 3
   },
   "file_extension": ".py",
   "mimetype": "text/x-python",
   "name": "python",
   "nbconvert_exporter": "python",
   "pygments_lexer": "ipython3",
   "version": "3.9.12"
  }
 },
 "nbformat": 4,
 "nbformat_minor": 5
}
